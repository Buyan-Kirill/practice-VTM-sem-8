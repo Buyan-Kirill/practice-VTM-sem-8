{
  "cells": [
    {
      "cell_type": "markdown",
      "metadata": {
        "id": "view-in-github",
        "colab_type": "text"
      },
      "source": [
        "<a href=\"https://colab.research.google.com/github/Buyan-Kirill/practice-VTM-sem-8/blob/main/Tensors_task_6.ipynb\" target=\"_parent\"><img src=\"https://colab.research.google.com/assets/colab-badge.svg\" alt=\"Open In Colab\"/></a>"
      ]
    },
    {
      "cell_type": "markdown",
      "metadata": {
        "id": "f41UUi9Ep83C"
      },
      "source": [
        "$\\Large{ST-HOSVD}$"
      ]
    },
    {
      "cell_type": "code",
      "execution_count": 1,
      "metadata": {
        "id": "oqu7yH7TcSKJ"
      },
      "outputs": [],
      "source": [
        "import numpy as np\n",
        "\n",
        "# Развёртка тензора\n",
        "def unfold(tensor, ax=0):\n",
        "    if ax < 0 or ax >= len(tensor.shape):\n",
        "        raise ValueError(\"Недопустимый номер направления\")\n",
        "    tensor_1 = np.moveaxis(tensor, ax, 0)\n",
        "    return tensor_1.reshape((tensor.shape[ax], -1))\n",
        "\n",
        "# Умножение по направлению\n",
        "def mode_product(matrix, tensor, ax):\n",
        "    if matrix.shape[1] != tensor.shape[ax]:\n",
        "        raise ValueError(f\"Размер матрицы {matrix.shape} не совместим размером {ax} тензора {tensor.shape} в данном направление\")\n",
        "    result = np.tensordot(matrix, tensor, axes=(1, ax))\n",
        "    if ax != 0:\n",
        "        result = np.moveaxis(result, 0, ax)\n",
        "    return result"
      ]
    },
    {
      "cell_type": "code",
      "execution_count": 2,
      "metadata": {
        "id": "FGgCcSS2iXgH"
      },
      "outputs": [],
      "source": [
        "def st_hosvd(T: np.array, error):\n",
        "    U_matrices = []\n",
        "    total_error = 0 # Оценка ошибки (должна совападть с настоящей ошибкой)\n",
        "    if hasattr(error, \"__len__\"):\n",
        "        if len(error) != len(T.shape):\n",
        "            print(len(T.shape))\n",
        "            raise ValueError('Incorrect error size')\n",
        "        errors = error\n",
        "    else:\n",
        "        errors = [error / len(T.shape)] * len(T.shape)\n",
        "    X = T\n",
        "    for d in range(len(T.shape)):\n",
        "        U_i, D_i, V_i = np.linalg.svd(unfold(X, d), full_matrices=False)\n",
        "        k = 0\n",
        "        error_i = np.linalg.norm(D_i) ** 2\n",
        "        while error_i > errors[d] and k < len(D_i):\n",
        "            error_i -= D_i[k]**2\n",
        "            k += 1\n",
        "        total_error += error_i\n",
        "        U_matrices.append(U_i[:, :k])\n",
        "        X = mode_product(U_matrices[d].T, X, d)\n",
        "    return X, U_matrices, total_error"
      ]
    },
    {
      "cell_type": "code",
      "execution_count": 3,
      "metadata": {
        "id": "62dWjFaqiuNb"
      },
      "outputs": [],
      "source": [
        "def test_hosvd(tensor: np.array, core: np.array, U: list[np.array], estimation=None):\n",
        "    t_appr = core\n",
        "    for d in range(len(tensor.shape)):\n",
        "        t_appr = mode_product(U[d], t_appr, d)\n",
        "    print(\"Tensor shapes = \", tensor.shape)\n",
        "    print(\"Core shapes = \", core.shape)\n",
        "    print(\"True error = \", np.linalg.norm(tensor - t_appr) ** 2)\n",
        "    if estimation:\n",
        "        print(\"Error estimation = \", estimation)\n",
        "    print()\n"
      ]
    },
    {
      "cell_type": "code",
      "execution_count": 4,
      "metadata": {
        "colab": {
          "base_uri": "https://localhost:8080/"
        },
        "id": "qbjvMrisiwH-",
        "outputId": "a5e20e1e-20f6-4f7f-9845-477b9d9ef8ad"
      },
      "outputs": [
        {
          "output_type": "stream",
          "name": "stdout",
          "text": [
            "Tensor shapes =  (3, 2, 1)\n",
            "Core shapes =  (1, 1, 1)\n",
            "True error =  0.2645050872658184\n",
            "Error estimation =  0.26450508726583166\n",
            "\n",
            "Tensor shapes =  (3, 2, 3)\n",
            "Core shapes =  (3, 2, 3)\n",
            "True error =  1.3661682367071843e-29\n",
            "Error estimation =  2.4868995751603507e-14\n",
            "\n",
            "Tensor shapes =  (10, 6, 8, 5)\n",
            "Core shapes =  (9, 6, 7, 5)\n",
            "True error =  32.998366979129926\n",
            "Error estimation =  32.998366979130346\n",
            "\n",
            "Tensor shapes =  (10, 60, 28, 15)\n",
            "Core shapes =  (10, 60, 28, 15)\n",
            "True error =  2.3019043951930664e-25\n",
            "Error estimation =  -1.0231815394945443e-12\n",
            "\n",
            "Tensor shapes =  (10, 60, 28, 15)\n",
            "Core shapes =  (10, 59, 28, 15)\n",
            "True error =  276.7948917091043\n",
            "Error estimation =  276.7948917091402\n",
            "\n",
            "Tensor shapes =  (80, 4, 5, 3, 8)\n",
            "Core shapes =  (19, 4, 5, 3, 8)\n",
            "True error =  1998.0117257541922\n",
            "Error estimation =  1998.0117257541967\n",
            "\n"
          ]
        }
      ],
      "source": [
        "np.random.seed(42)\n",
        "# test 1\n",
        "T = np.array([[[1], [2]], [[3], [4]], [[5], [6]]])\n",
        "core, U, err = st_hosvd(T, 1)\n",
        "test_hosvd(T, core, U, err)\n",
        "\n",
        "\n",
        "# test 2\n",
        "T = np.array([[[1, 1, 2], [1, 2, 5]], [[0, 2, 1], [3, 5, 0]], [[4, 2, 1], [3, 1, 0]]])\n",
        "core, U, err = st_hosvd(T, 1)\n",
        "test_hosvd(T, core, U, err)\n",
        "\n",
        "\n",
        "# test 3\n",
        "T = np.random.rand(10, 6, 8, 5)\n",
        "core, U, err = st_hosvd(T, [20, 0, 20, 0])\n",
        "test_hosvd(T, core, U, err)\n",
        "\n",
        "\n",
        "# test 4\n",
        "T = np.random.rand(10, 60, 28, 15)\n",
        "core, U, err = st_hosvd(T, 0)\n",
        "test_hosvd(T, core, U, err)\n",
        "\n",
        "\n",
        "# test 5\n",
        "T = np.random.rand(10, 60, 28, 15)\n",
        "core, U, err = st_hosvd(T, [144, 361, 256, 100])\n",
        "test_hosvd(T, core, U, err)\n",
        "\n",
        "\n",
        "# test 5\n",
        "T = np.random.rand(80, 4, 5, 3, 8)\n",
        "core, U, err = st_hosvd(T, [2000, 10, 10, 10, 10])\n",
        "test_hosvd(T, core, U, err)\n"
      ]
    }
  ],
  "metadata": {
    "colab": {
      "provenance": [],
      "include_colab_link": true
    },
    "kernelspec": {
      "display_name": "base",
      "language": "python",
      "name": "python3"
    },
    "language_info": {
      "codemirror_mode": {
        "name": "ipython",
        "version": 3
      },
      "file_extension": ".py",
      "mimetype": "text/x-python",
      "name": "python",
      "nbconvert_exporter": "python",
      "pygments_lexer": "ipython3",
      "version": "3.12.7"
    }
  },
  "nbformat": 4,
  "nbformat_minor": 0
}