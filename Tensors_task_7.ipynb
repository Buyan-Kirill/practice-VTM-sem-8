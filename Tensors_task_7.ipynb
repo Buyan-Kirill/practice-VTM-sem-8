{
  "cells": [
    {
      "cell_type": "markdown",
      "metadata": {
        "id": "view-in-github",
        "colab_type": "text"
      },
      "source": [
        "<a href=\"https://colab.research.google.com/github/Buyan-Kirill/practice-VTM-sem-8/blob/main/Tensors_task_7.ipynb\" target=\"_parent\"><img src=\"https://colab.research.google.com/assets/colab-badge.svg\" alt=\"Open In Colab\"/></a>"
      ]
    },
    {
      "cell_type": "markdown",
      "metadata": {
        "id": "ZezaKZe1u5Z6"
      },
      "source": [
        "$\\Large{TT-operations}$"
      ]
    },
    {
      "cell_type": "code",
      "execution_count": 24,
      "metadata": {
        "id": "IDv7lFhiu5Z9"
      },
      "outputs": [],
      "source": [
        "import numpy as np\n",
        "def TT_to_tensor(tt_cores):\n",
        "    result = tt_cores[0]\n",
        "    for core in tt_cores[1:]:\n",
        "        result = np.einsum('...i,ijk->...jk', result, core)\n",
        "    return np.squeeze(result)"
      ]
    },
    {
      "cell_type": "code",
      "execution_count": 25,
      "metadata": {
        "id": "vMNdxJs3u5aA"
      },
      "outputs": [],
      "source": [
        "def TT_SVD(Tensor, eps=1e-10):\n",
        "    d = len(Tensor.shape)\n",
        "    cores = []\n",
        "    T = Tensor.copy()\n",
        "    r_prev = 1\n",
        "    eps_d = eps / d\n",
        "\n",
        "    for k in range(d - 1):\n",
        "        n_k = Tensor.shape[k]\n",
        "        T = T.reshape((r_prev * n_k, -1))\n",
        "\n",
        "        U, S, V = np.linalg.svd(T, full_matrices=False)\n",
        "\n",
        "        rank = np.sum(np.cumsum(S[::-1]**2) > eps_d**2)\n",
        "\n",
        "        G = U[:, :rank].reshape((r_prev, n_k, rank))\n",
        "        cores.append(G)\n",
        "\n",
        "        T = np.diag(S[:rank]) @ V[:rank, :]\n",
        "        r_prev = rank\n",
        "\n",
        "    cores.append(T.reshape((r_prev, Tensor.shape[-1], 1)))\n",
        "    return cores"
      ]
    },
    {
      "cell_type": "code",
      "execution_count": 26,
      "metadata": {
        "colab": {
          "base_uri": "https://localhost:8080/"
        },
        "id": "dzkq4pB5u5aB",
        "outputId": "5f537bc8-e37c-4153-e1d3-2dfd86b99cb2"
      },
      "outputs": [
        {
          "output_type": "stream",
          "name": "stdout",
          "text": [
            "Ошибка восстановления:  3.3638087501750517e-15\n"
          ]
        }
      ],
      "source": [
        "X = np.random.rand(4, 3, 2, 5)\n",
        "\n",
        "tt_cores = TT_SVD(X, eps=1e-8)\n",
        "\n",
        "X_reconstructed = TT_to_tensor(tt_cores)\n",
        "error = np.linalg.norm(X - X_reconstructed) / np.linalg.norm(X)\n",
        "print(\"Ошибка восстановления: \", error)"
      ]
    },
    {
      "cell_type": "code",
      "execution_count": 27,
      "metadata": {
        "colab": {
          "base_uri": "https://localhost:8080/"
        },
        "id": "NPZuKwFUu5aD",
        "outputId": "0ad81070-2b3a-4cd7-ad0b-848abbbd2916"
      },
      "outputs": [
        {
          "output_type": "stream",
          "name": "stdout",
          "text": [
            "Ошибка восстановления:  7.06117118565229e-15\n"
          ]
        }
      ],
      "source": [
        "X = np.random.rand(20, 10, 13, 7)\n",
        "\n",
        "tt_cores = TT_SVD(X, eps=1e-8)\n",
        "\n",
        "X_reconstructed = TT_to_tensor(tt_cores)\n",
        "error = np.linalg.norm(X - X_reconstructed) / np.linalg.norm(X)\n",
        "print(\"Ошибка восстановления: \", error)"
      ]
    },
    {
      "cell_type": "code",
      "execution_count": 28,
      "metadata": {
        "id": "cIDKsYZPu5aE"
      },
      "outputs": [],
      "source": [
        "def TT_orthogonalize(tt_cores, mode):\n",
        "    if mode not in ['left', 'right']:\n",
        "        raise ValueError(\"Incorrect mode\")\n",
        "\n",
        "    cores = [G.copy() for G in tt_cores]\n",
        "    d = len(cores)\n",
        "\n",
        "    if mode == 'left':\n",
        "        for k in range(d - 1):\n",
        "            r_prev, n_k, r_k = cores[k].shape\n",
        "\n",
        "            Q, R = np.linalg.qr(cores[k].reshape(-1, r_k))\n",
        "\n",
        "            cores[k] = Q.reshape(r_prev, n_k, Q.shape[-1])\n",
        "\n",
        "            cores[k + 1] = np.einsum('ij,jkl->ikl', R, cores[k + 1])\n",
        "    else:\n",
        "        for k in range(d - 1, 0, -1):\n",
        "            r_k, n_k, r_next = cores[k].shape\n",
        "\n",
        "            Q, R = np.linalg.qr(cores[k].reshape(r_k, -1).T)\n",
        "            Q, R = Q.T, R.T\n",
        "\n",
        "            cores[k] = Q.reshape(Q.shape[0], n_k, r_next)\n",
        "\n",
        "            cores[k - 1] = np.einsum('ijk,kl->ijl', cores[k - 1], R)\n",
        "\n",
        "    return cores"
      ]
    },
    {
      "cell_type": "code",
      "execution_count": 29,
      "metadata": {
        "id": "g2ebTZkIu5aF"
      },
      "outputs": [],
      "source": [
        "def test_orthogonality(TT_cores, mode):\n",
        "    flag = True\n",
        "    if mode == \"left\":\n",
        "        for k in range(len(TT_cores) - 1):\n",
        "            Gk = TT_cores[k].reshape(-1, TT_cores[k].shape[-1])\n",
        "            flag = flag and np.allclose(Gk.T @ Gk, np.eye(Gk.shape[1]))\n",
        "    elif mode == \"rifght\":\n",
        "        for k in range(len(TT_cores) - 1, 0, -1):\n",
        "            Gk = TT_cores[k].reshape(TT_cores[k].shape[0], -1)\n",
        "            flag = flag and np.allclose(Gk @ Gk.T, np.eye(Gk.shape[0]))\n",
        "    return flag"
      ]
    },
    {
      "cell_type": "code",
      "execution_count": 30,
      "metadata": {
        "colab": {
          "base_uri": "https://localhost:8080/"
        },
        "id": "FazrJhLlu5aG",
        "outputId": "715ef4f6-010b-4cde-dd7f-7a23a86c0319"
      },
      "outputs": [
        {
          "output_type": "stream",
          "name": "stdout",
          "text": [
            "Ортогональность слева\n",
            "\n",
            "Before orthogonalization\n",
            "Not orthogonal\n",
            "\n",
            "After orthogonalization\n",
            "Orthogonal\n"
          ]
        }
      ],
      "source": [
        "np.random.seed(42)\n",
        "G1 = np.random.rand(1, 10, 5)\n",
        "G2 = np.random.rand(5, 3, 8)\n",
        "G3 = np.random.rand(8, 5, 1)\n",
        "G4 = np.random.rand(7, 11, 1)\n",
        "TT_cores = [G1, G2, G3, G4]\n",
        "\n",
        "print(\"Ортогональность слева\", end=\"\\n\\n\")\n",
        "\n",
        "print(\"Before orthogonalization\")\n",
        "if test_orthogonality(TT_cores, \"left\"):\n",
        "    print(\"Orthogonal\")\n",
        "else:\n",
        "    print(\"Not orthogonal\")\n",
        "\n",
        "TT_cores = TT_orthogonalize(TT_cores, mode=\"left\")\n",
        "\n",
        "print(\"\\nAfter orthogonalization\")\n",
        "if test_orthogonality(TT_cores, \"left\"):\n",
        "    print(\"Orthogonal\")\n",
        "else:\n",
        "    print(\"Not orthogonal\")"
      ]
    },
    {
      "cell_type": "code",
      "execution_count": 31,
      "metadata": {
        "colab": {
          "base_uri": "https://localhost:8080/"
        },
        "id": "bjagqQAVu5aH",
        "outputId": "d8b3c592-0a0e-4df2-b7cf-cf90ac7108c7"
      },
      "outputs": [
        {
          "output_type": "stream",
          "name": "stdout",
          "text": [
            "Ортогональность справа\n",
            "\n",
            "Before orthogonalization\n",
            "Orthogonal\n",
            "\n",
            "After orthogonalization\n",
            "Orthogonal\n"
          ]
        }
      ],
      "source": [
        "np.random.seed(42)\n",
        "G1 = np.random.rand(1, 10, 5)\n",
        "G2 = np.random.rand(5, 3, 8)\n",
        "G3 = np.random.rand(8, 5, 1)\n",
        "G4 = np.random.rand(7, 11, 1)\n",
        "TT_cores = [G1, G2, G3, G4]\n",
        "\n",
        "print(\"Ортогональность справа\", end=\"\\n\\n\")\n",
        "\n",
        "print(\"Before orthogonalization\")\n",
        "if test_orthogonality(TT_cores, \"right\"):\n",
        "    print(\"Orthogonal\")\n",
        "else:\n",
        "    print(\"Not orthogonal\")\n",
        "\n",
        "TT_cores = TT_orthogonalize(TT_cores, mode=\"right\")\n",
        "\n",
        "print(\"\\nAfter orthogonalization\")\n",
        "if test_orthogonality(TT_cores, \"right\"):\n",
        "    print(\"Orthogonal\")\n",
        "else:\n",
        "    print(\"Not orthogonal\")"
      ]
    },
    {
      "cell_type": "code",
      "execution_count": 32,
      "metadata": {
        "id": "AOvauQiHu5aH"
      },
      "outputs": [],
      "source": [
        "def TT_compression(G, eps=1e-15):\n",
        "    G = TT_orthogonalize(G, mode=\"left\")\n",
        "    G[0] = G[0].reshape(G[0].shape[1], G[0].shape[2])\n",
        "    G[-1] = G[-1].reshape(G[-1].shape[0], G[-1].shape[1])\n",
        "\n",
        "    u, s, G[-1] = np.linalg.svd(G[-1], full_matrices=False)\n",
        "    singular_count = np.argwhere(np.cumsum(s[::-1] ** 2) / s[0] > eps)[0][0]\n",
        "    rank = s.size - singular_count\n",
        "    G[-1] = G[-1][:rank, :]\n",
        "    U = u[:, :rank] * s[np.newaxis, :rank]\n",
        "\n",
        "    for i in range(len(G) - 2, 0, -1):\n",
        "        G[i] = np.einsum(\"mrt,tk->mrk\", G[i], U)\n",
        "        n, right_rank = G[i].shape[1], G[i].shape[2]\n",
        "        G[i] = np.reshape(G[i], (-1, n * rank))\n",
        "        u, s, G[i] = np.linalg.svd(G[i])\n",
        "        singular_count = np.argwhere(np.cumsum(s[::-1] ** 2) / s[0] > eps)[0][0]\n",
        "        rank = s.size - singular_count\n",
        "        G[i] = G[i][:rank, :]\n",
        "        G[i] = np.reshape(G[i], (-1, n, right_rank))\n",
        "        U = u[:, :rank] * s[np.newaxis, :rank]\n",
        "\n",
        "    G[0] = G[0] @ U\n",
        "    G[0] = G[0].reshape(1, G[0].shape[0], G[0].shape[1])\n",
        "    G[-1] = G[-1].reshape(G[-1].shape[0], G[-1].shape[1], 1)\n",
        "    return G"
      ]
    },
    {
      "cell_type": "code",
      "execution_count": 33,
      "metadata": {
        "colab": {
          "base_uri": "https://localhost:8080/"
        },
        "id": "FiIXYEUvu5aI",
        "outputId": "c4064677-52bd-4738-e01d-64c7a60b76b6"
      },
      "outputs": [
        {
          "output_type": "stream",
          "name": "stdout",
          "text": [
            "TT ranks before TT-compression:  4, 4, \n",
            "TT ranks after TT-compression:  1, 2, \n",
            "Error:  1.2560739669470201e-15\n"
          ]
        }
      ],
      "source": [
        "np.random.seed(42)\n",
        "G1 = np.random.rand(1, 1, 4)\n",
        "G2 = np.random.rand(4, 2, 4)\n",
        "G3 = np.random.rand(4, 3, 1)\n",
        "TT_cores = [G1, G2, G3]\n",
        "\n",
        "print (\"TT ranks before TT-compression: \", end = \" \")\n",
        "for i in range(len(TT_cores) - 1):\n",
        "    print(TT_cores[i].shape[-1], end = \", \")\n",
        "print()\n",
        "\n",
        "T1 = TT_to_tensor(TT_cores)\n",
        "\n",
        "TT_compressed = TT_compression(TT_cores)\n",
        "\n",
        "print (\"TT ranks after TT-compression: \", end = \" \")\n",
        "for i in range(len(TT_compressed) - 1):\n",
        "    print(TT_compressed[i].shape[-1], end = \", \")\n",
        "print()\n",
        "\n",
        "T2 = TT_to_tensor(TT_compressed)\n",
        "\n",
        "print(\"Error: \", np.linalg.norm(T1 - T2))"
      ]
    },
    {
      "cell_type": "code",
      "execution_count": 34,
      "metadata": {
        "colab": {
          "base_uri": "https://localhost:8080/"
        },
        "id": "AYqxkWghu5aI",
        "outputId": "27198114-4333-421c-979f-4cb234da1c8a"
      },
      "outputs": [
        {
          "output_type": "stream",
          "name": "stdout",
          "text": [
            "TT ranks before TT-compression:  20, 80, 18, \n",
            "TT ranks after TT-compression:  4, 28, 9, \n",
            "Error:  1.0086937953180811e-10\n"
          ]
        }
      ],
      "source": [
        "np.random.seed(42)\n",
        "G1 = np.random.rand(1, 4, 20)\n",
        "G2 = np.random.rand(20, 7, 80)\n",
        "G3 = np.random.rand(80, 6, 18)\n",
        "G4 = np.random.rand(18, 9, 1)\n",
        "TT_cores = [G1, G2, G3, G4]\n",
        "\n",
        "print (\"TT ranks before TT-compression: \", end = \" \")\n",
        "for i in range(len(TT_cores) - 1):\n",
        "    print(TT_cores[i].shape[-1], end = \", \")\n",
        "print()\n",
        "\n",
        "T1 = TT_to_tensor(TT_cores)\n",
        "\n",
        "TT_compressed = TT_compression(TT_cores)\n",
        "\n",
        "print (\"TT ranks after TT-compression: \", end = \" \")\n",
        "for i in range(len(TT_compressed) - 1):\n",
        "    print(TT_compressed[i].shape[-1], end = \", \")\n",
        "print()\n",
        "\n",
        "T2 = TT_to_tensor(TT_compressed)\n",
        "\n",
        "print(\"Error: \", np.linalg.norm(T1 - T2))"
      ]
    }
  ],
  "metadata": {
    "colab": {
      "provenance": [],
      "include_colab_link": true
    },
    "kernelspec": {
      "display_name": "base",
      "language": "python",
      "name": "python3"
    },
    "language_info": {
      "codemirror_mode": {
        "name": "ipython",
        "version": 3
      },
      "file_extension": ".py",
      "mimetype": "text/x-python",
      "name": "python",
      "nbconvert_exporter": "python",
      "pygments_lexer": "ipython3",
      "version": "3.12.7"
    }
  },
  "nbformat": 4,
  "nbformat_minor": 0
}